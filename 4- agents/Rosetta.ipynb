{
 "cells": [
  {
   "cell_type": "markdown",
   "id": "b734f274-b78d-4213-aafa-2bbd5d74296c",
   "metadata": {},
   "source": [
    "# My own sql database"
   ]
  },
  {
   "cell_type": "code",
   "execution_count": 7,
   "id": "31f7bec3-5f67-4b49-b878-8fa9d22925c9",
   "metadata": {
    "tags": []
   },
   "outputs": [],
   "source": [
    "import sqlite3\n",
    "\n",
    "# Connect to the database (creates a new database if it doesn't exist)\n",
    "conn = sqlite3.connect('gibberish.sqlite')\n",
    "\n",
    "# Create a cursor object to execute SQL statements\n",
    "cursor = conn.cursor()\n",
    "\n",
    "# Create the first table\n",
    "cursor.execute('''\n",
    "    CREATE TABLE IF NOT EXISTS y (\n",
    "        id INTEGER PRIMARY KEY,\n",
    "        N TEXT,\n",
    "        H REAL\n",
    "    )\n",
    "''')\n",
    "y_data = [\n",
    "    (1, 'Alice', 205.1),\n",
    "    (2, 'Bob', 201.2),\n",
    "    (3, 'Cat', 199.4)\n",
    "]\n",
    "cursor.executemany(\n",
    "    'INSERT INTO y VALUES (?, ?, ?)', \n",
    "    y_data\n",
    ")\n",
    "\n",
    "\n",
    "# Create the second table\n",
    "cursor.execute('''\n",
    "    CREATE TABLE IF NOT EXISTS gmass (\n",
    "        id INTEGER PRIMARY KEY,\n",
    "        N TEXT,\n",
    "        W REAL\n",
    "    )\n",
    "''')\n",
    "gmass_data = [\n",
    "    (1, 'Alice',175.2 ),\n",
    "    (2, 'Bob', 156.2),\n",
    "    (3, 'Cat', 123.8)\n",
    "]\n",
    "cursor.executemany(\n",
    "    'INSERT INTO gmass VALUES (?, ?, ?)', \n",
    "    gmass_data\n",
    ")\n",
    "\n",
    "# Commit the changes and close the connection\n",
    "conn.commit()\n",
    "conn.close()"
   ]
  },
  {
   "cell_type": "markdown",
   "id": "01bce2a1-7683-462a-9dcd-7918652482a8",
   "metadata": {},
   "source": [
    "# Queries"
   ]
  },
  {
   "cell_type": "code",
   "execution_count": 1,
   "id": "e9c7c86d-8f72-4d22-8413-b7ac70fac1ce",
   "metadata": {
    "tags": []
   },
   "outputs": [
    {
     "name": "stdout",
     "output_type": "stream",
     "text": [
      "[(1, 'Alice', 175.2), (2, 'Bob', 156.2), (3, 'Cat', 123.8)]\n",
      "[(1, 'Alice', 205.1), (2, 'Bob', 201.2), (3, 'Cat', 199.4)]\n"
     ]
    }
   ],
   "source": [
    "import sqlite3\n",
    "conn = sqlite3.connect(\"gibberish.sqlite\")\n",
    "\n",
    "# Define a finction to be made into a tool. \n",
    "def run_sqlite_query(query):\n",
    "    c =  conn.cursor() #Cursor is the object that allows us to access to the db.\n",
    "    try:\n",
    "        c.execute(query)\n",
    "        return c.fetchall() \n",
    "    except sqlite3.OperationalError as err:\n",
    "        return f\"The following error occuerd: {str(err)}\"\n",
    "\n",
    "# check that query works\n",
    "print(run_sqlite_query(\"\"\"\n",
    "SELECT * FROM gmass \n",
    "\"\"\"))\n",
    "print(run_sqlite_query(\"\"\"\n",
    "SELECT * FROM y \n",
    "\"\"\"))"
   ]
  },
  {
   "cell_type": "markdown",
   "id": "eec63335-9e8f-4ef5-8edb-3ee330ea8f1f",
   "metadata": {
    "tags": []
   },
   "source": [
    "## Create query tool "
   ]
  },
  {
   "cell_type": "code",
   "execution_count": 2,
   "id": "bc04d5b8-6bf7-430a-a1fb-0bb524c252a4",
   "metadata": {
    "tags": []
   },
   "outputs": [
    {
     "data": {
      "text/plain": [
       "[(1, 'Alice', 205.1), (2, 'Bob', 201.2), (3, 'Cat', 199.4)]"
      ]
     },
     "execution_count": 2,
     "metadata": {},
     "output_type": "execute_result"
    }
   ],
   "source": [
    "from langchain.tools import Tool\n",
    "\n",
    "run_query_tool = Tool.from_function(\n",
    "    name=\"run_sqlite_query\", \n",
    "    description=\"Run a sqlite query.\",\n",
    "    func=run_sqlite_query,\n",
    ")\n",
    "# Check that it works:\n",
    "run_query_tool(\"\"\"\n",
    "SELECT * FROM y \n",
    "\"\"\")"
   ]
  },
  {
   "cell_type": "markdown",
   "id": "a91a5455-47fb-497f-a76f-1d89bc3637ed",
   "metadata": {
    "tags": []
   },
   "source": [
    "## Agent aware of Query Tool"
   ]
  },
  {
   "cell_type": "code",
   "execution_count": 3,
   "id": "9371793e-cf5f-4c57-b805-07fe4b4cf911",
   "metadata": {
    "tags": []
   },
   "outputs": [
    {
     "name": "stderr",
     "output_type": "stream",
     "text": [
      "/opt/anaconda3/envs/langchain_course_env/lib/python3.11/site-packages/langchain_core/_api/deprecation.py:117: LangChainDeprecationWarning: The class `langchain.agents.openai_functions_agent.base.OpenAIFunctionsAgent` was deprecated in langchain 0.1.0 and will be removed in 0.2.0. Use create_openai_functions_agent instead.\n",
      "  warn_deprecated(\n",
      "/opt/anaconda3/envs/langchain_course_env/lib/python3.11/site-packages/langchain_core/_api/deprecation.py:117: LangChainDeprecationWarning: The function `__call__` was deprecated in LangChain 0.1.0 and will be removed in 0.2.0. Use invoke instead.\n",
      "  warn_deprecated(\n"
     ]
    },
    {
     "name": "stdout",
     "output_type": "stream",
     "text": [
      "\n",
      "\n",
      "\u001b[1m> Entering new AgentExecutor chain...\u001b[0m\n",
      "\u001b[32;1m\u001b[1;3m\n",
      "Invoking: `run_sqlite_query` with `SELECT AVG(height) FROM people`\n",
      "\n",
      "\n",
      "\u001b[0m\u001b[36;1m\u001b[1;3mThe following error occuerd: no such table: people\u001b[0m\u001b[32;1m\u001b[1;3mI apologize, but it seems that there is no \"people\" table in the database. Please make sure that the table name is correct.\u001b[0m\n",
      "\n",
      "\u001b[1m> Finished chain.\u001b[0m\n"
     ]
    },
    {
     "data": {
      "text/plain": [
       "{'input': 'What is the average height of the people in the database?',\n",
       " 'output': 'I apologize, but it seems that there is no \"people\" table in the database. Please make sure that the table name is correct.'}"
      ]
     },
     "execution_count": 3,
     "metadata": {},
     "output_type": "execute_result"
    }
   ],
   "source": [
    "from langchain.agents import OpenAIFunctionsAgent\n",
    "\n",
    "from langchain.prompts import ChatPromptTemplate\n",
    "from langchain.schema import SystemMessage\n",
    "from langchain.prompts import HumanMessagePromptTemplate\n",
    "from langchain.prompts import MessagesPlaceholder\n",
    "\n",
    "from langchain.agents import AgentExecutor\n",
    "\n",
    "from langchain_openai import ChatOpenAI\n",
    "from dotenv import load_dotenv\n",
    "\n",
    "load_dotenv() # for David Cherney's OpenAI account.\n",
    "chat=ChatOpenAI()\n",
    "tools=[run_query_tool]\n",
    "\n",
    "prompt = ChatPromptTemplate(\n",
    "    messages=[\n",
    "        SystemMessage(\n",
    "            content = (\n",
    "                \"You are an AI that has access to a sqlite database. \"\n",
    "                )\n",
    "            ),\n",
    "        HumanMessagePromptTemplate.from_template(\"{input}\"),\n",
    "        MessagesPlaceholder(\n",
    "            variable_name = \"agent_scratchpad\"\n",
    "            )\n",
    "        ]\n",
    "    )\n",
    "\n",
    "agent = OpenAIFunctionsAgent(\n",
    "    llm=chat,\n",
    "    prompt=prompt,\n",
    "    tools=tools\n",
    "    # memory = \n",
    ")\n",
    "\n",
    "agent_executor = AgentExecutor(\n",
    "    agent=agent,\n",
    "    verbose=True,\n",
    "    tools=tools # Must be the same as in agent.\n",
    ")\n",
    "\n",
    "nl_query=\"What is the average height of the people in the database?\"\n",
    "agent_executor(nl_query)"
   ]
  },
  {
   "cell_type": "markdown",
   "id": "d2f0acce-67d0-491a-a67d-2b8839de45e3",
   "metadata": {},
   "source": [
    "The LLM guessed that there was a table named people and a feature in that tables called height. It needs to be informed of the names of the taabls and the schema. To do that we will\n",
    "1. create a function to list the tables and add that list to the systemprompt\n",
    "2. create a function that returns the schema, create a tool for that function, and thus allow the agent to look up the schema as needed. "
   ]
  },
  {
   "cell_type": "markdown",
   "id": "2e22fad4-07d4-4596-83f2-ded7433627b6",
   "metadata": {
    "tags": []
   },
   "source": [
    "# List tables function\n",
    "This is needed so that the query tool can be informed of the names of the tables."
   ]
  },
  {
   "cell_type": "code",
   "execution_count": 4,
   "id": "9f3ba061-e72b-4343-beeb-ee16b1439be3",
   "metadata": {
    "tags": []
   },
   "outputs": [
    {
     "data": {
      "text/plain": [
       "'y gmass'"
      ]
     },
     "execution_count": 4,
     "metadata": {},
     "output_type": "execute_result"
    }
   ],
   "source": [
    "import sqlite3\n",
    "conn = sqlite3.connect(\"gibberish.sqlite\")\n",
    "\n",
    "def list_tables():\n",
    "    c = conn.cursor()\n",
    "    # List tables in the database using SQL.\n",
    "    c.execute(\"SELECT name FROM sqlite_master WHERE type='table';\")\n",
    "    rows = c.fetchall() \n",
    "    # SQL format issue:\n",
    "    # Each item in rows was a 2-tuple with first item a table name as a string, \n",
    "    # second item blank. Replace all toples with their fist entry.\n",
    "    rows = [row[0] for row in rows if row[0] is not None]\n",
    "    # Reformat as a string with the name of one table on each line. \n",
    "    tables = \" \".join(rows)\n",
    "    return tables\n",
    "\n",
    "tables = list_tables()\n",
    "tables"
   ]
  },
  {
   "cell_type": "markdown",
   "id": "72be81cc-38e1-4d4a-ad1f-ed5a981df25e",
   "metadata": {
    "tags": []
   },
   "source": [
    "## Tables informed Agent with Query Tool"
   ]
  },
  {
   "cell_type": "code",
   "execution_count": 5,
   "id": "e358a353-7669-4dab-9d22-412bbc83712a",
   "metadata": {
    "tags": []
   },
   "outputs": [
    {
     "name": "stdout",
     "output_type": "stream",
     "text": [
      "\n",
      "\n",
      "\u001b[1m> Entering new AgentExecutor chain...\u001b[0m\n",
      "\u001b[32;1m\u001b[1;3m\n",
      "Invoking: `run_sqlite_query` with `SELECT AVG(height) FROM y`\n",
      "\n",
      "\n",
      "\u001b[0m\u001b[36;1m\u001b[1;3mThe following error occuerd: no such column: height\u001b[0m\u001b[32;1m\u001b[1;3m\n",
      "Invoking: `run_sqlite_query` with `SELECT AVG(height) FROM gmass`\n",
      "\n",
      "\n",
      "\u001b[0m\u001b[36;1m\u001b[1;3mThe following error occuerd: no such column: height\u001b[0m\u001b[32;1m\u001b[1;3mI'm sorry, but it seems that there is no column named \"height\" in any of the tables in the database. Please make sure that the column name is correct or provide more information about the structure of the tables.\u001b[0m\n",
      "\n",
      "\u001b[1m> Finished chain.\u001b[0m\n"
     ]
    },
    {
     "data": {
      "text/plain": [
       "{'input': 'What is the average height of the people in the database?',\n",
       " 'output': 'I\\'m sorry, but it seems that there is no column named \"height\" in any of the tables in the database. Please make sure that the column name is correct or provide more information about the structure of the tables.'}"
      ]
     },
     "execution_count": 5,
     "metadata": {},
     "output_type": "execute_result"
    }
   ],
   "source": [
    "from langchain.agents import OpenAIFunctionsAgent\n",
    "\n",
    "from langchain.prompts import ChatPromptTemplate\n",
    "from langchain.schema import SystemMessage\n",
    "from langchain.prompts import HumanMessagePromptTemplate\n",
    "from langchain.prompts import MessagesPlaceholder\n",
    "\n",
    "from langchain.agents import AgentExecutor\n",
    "\n",
    "from langchain_openai import ChatOpenAI\n",
    "from dotenv import load_dotenv\n",
    "\n",
    "load_dotenv() # for David Cherney's OpenAI account.\n",
    "chat=ChatOpenAI()\n",
    "tools=[run_query_tool]\n",
    "\n",
    "prompt = ChatPromptTemplate(\n",
    "    messages=[\n",
    "        SystemMessage(\n",
    "            content = (\n",
    "                \"You are an AI that has access to a sqlite database. \"\n",
    "                f\"The database has the following tables: {list_tables().split(' ')}\\n\"\n",
    "                \"Do not make any assumptions about what tables exist. \"\n",
    "                )\n",
    "            ),\n",
    "        HumanMessagePromptTemplate.from_template(\"{input}\"),\n",
    "        MessagesPlaceholder(\n",
    "            variable_name = \"agent_scratchpad\"\n",
    "            )\n",
    "        ]\n",
    "    )\n",
    "\n",
    "agent = OpenAIFunctionsAgent(\n",
    "    llm=chat,\n",
    "    prompt=prompt,\n",
    "    tools=tools\n",
    "    # memory = \n",
    ")\n",
    "\n",
    "agent_executor = AgentExecutor(\n",
    "    agent=agent,\n",
    "    verbose=True,\n",
    "    tools=tools # Must be the same as in agent.\n",
    ")\n",
    "\n",
    "nl_query=\"What is the average height of the people in the database?\"\n",
    "agent_executor(nl_query)"
   ]
  },
  {
   "cell_type": "markdown",
   "id": "e58b1aa5-e2ab-4826-905b-64ed680d4cbd",
   "metadata": {
    "tags": []
   },
   "source": [
    "The LLM \n",
    "- knew that the names of the tables were y and gmass\n",
    "- assumed there was a feature called height in one of those tables and repeatedly went looking for it."
   ]
  },
  {
   "cell_type": "markdown",
   "id": "510b8a94-94c7-4f28-af69-6d9015b032b6",
   "metadata": {},
   "source": [
    "## Tool for examining schema"
   ]
  },
  {
   "cell_type": "code",
   "execution_count": 7,
   "id": "0bee7f74-efe4-40e0-9599-2787af705048",
   "metadata": {
    "tags": []
   },
   "outputs": [
    {
     "name": "stdout",
     "output_type": "stream",
     "text": [
      "CREATE TABLE y (\n",
      "        id INTEGER PRIMARY KEY,\n",
      "        N TEXT,\n",
      "        H REAL\n",
      "    )\n",
      "CREATE TABLE gmass (\n",
      "        id INTEGER PRIMARY KEY,\n",
      "        N TEXT,\n",
      "        W REAL\n",
      "    )\n"
     ]
    }
   ],
   "source": [
    "def describe_tables(table_names):\n",
    "    c = conn.cursor()\n",
    "    # Create a string that is a list of tables for SQL syntax. \n",
    "    # e.g. tables = \"WHERE name in ('users','orders','products');\" .\n",
    "    tables = ', '.join(\"'\"+ table + \"'\" for table in table_names) \n",
    "    schemas_tuples = c.execute(\n",
    "        \"SELECT sql \"\n",
    "        \"FROM sqlite_master \" \n",
    "        f\"WHERE type='table' and name IN ({tables});\"\n",
    "        )\n",
    "    schemas_tuples = list(schemas_tuples) # Seems to make it more permananet.\n",
    "    schemas = [schema_tuple[0] for schema_tuple in schemas_tuples \n",
    "           if schema_tuple[0] is not None]\n",
    "    schemas_string = '\\n'.join(schemas)\n",
    "    return schemas_string\n",
    "\n",
    "describe_tables_tool = Tool.from_function(\n",
    "    name=\"describe_tables\",\n",
    "    description=(\n",
    "        \"Gven a list of table names, \" \n",
    "        + \"returns the schema of those tables.\"\n",
    "        ),\n",
    "    func=describe_tables,\n",
    " #   args_schema=DescribeTablesArgsSchema \n",
    ")\n",
    "print(describe_tables(table_names = list_tables().split(' ')))"
   ]
  },
  {
   "cell_type": "markdown",
   "id": "f0de4535-c0fb-4bf9-a565-4c5ec1f5d064",
   "metadata": {},
   "source": [
    "## Table informed, query and schema tools"
   ]
  },
  {
   "cell_type": "code",
   "execution_count": 8,
   "id": "2a17deef-fa08-433d-90df-251c1b5fbac1",
   "metadata": {
    "tags": []
   },
   "outputs": [
    {
     "name": "stdout",
     "output_type": "stream",
     "text": [
      "\n",
      "\n",
      "\u001b[1m> Entering new AgentExecutor chain...\u001b[0m\n",
      "\u001b[32;1m\u001b[1;3m\n",
      "Invoking: `run_sqlite_query` with `{'query': 'SELECT AVG(height/weight) AS avg_ratio FROM people'}`\n",
      "\n",
      "\n",
      "\u001b[0m\u001b[36;1m\u001b[1;3mThe following error occuerd: no such table: people\u001b[0m\u001b[32;1m\u001b[1;3m\n",
      "Invoking: `describe_tables` with `{'table_names': ['y', 'gmass']}`\n",
      "\n",
      "\n",
      "\u001b[0m\u001b[33;1m\u001b[1;3mCREATE TABLE y (\n",
      "        id INTEGER PRIMARY KEY,\n",
      "        N TEXT,\n",
      "        H REAL\n",
      "    )\n",
      "CREATE TABLE gmass (\n",
      "        id INTEGER PRIMARY KEY,\n",
      "        N TEXT,\n",
      "        W REAL\n",
      "    )\u001b[0m\u001b[32;1m\u001b[1;3m\n",
      "Invoking: `run_sqlite_query` with `{'query': 'SELECT AVG(y.H/gmass.W) AS avg_ratio FROM y JOIN gmass ON y.N = gmass.N'}`\n",
      "\n",
      "\n",
      "\u001b[0m\u001b[36;1m\u001b[1;3m[(1.3564722162000782,)]\u001b[0m\u001b[32;1m\u001b[1;3mThe average ratio of height to weight of the people in the database is approximately 1.356.\u001b[0m\n",
      "\n",
      "\u001b[1m> Finished chain.\u001b[0m\n"
     ]
    },
    {
     "data": {
      "text/plain": [
       "{'input': '\\nWhat is the average ratio of height to weight of the people in the database?\\n',\n",
       " 'output': 'The average ratio of height to weight of the people in the database is approximately 1.356.'}"
      ]
     },
     "execution_count": 8,
     "metadata": {},
     "output_type": "execute_result"
    }
   ],
   "source": [
    "load_dotenv() # for David Cherney's OpenAI account.\n",
    "chat=ChatOpenAI()\n",
    "tools=[run_query_tool, describe_tables_tool]\n",
    "\n",
    "prompt = ChatPromptTemplate(\n",
    "    messages=[\n",
    "        SystemMessage(\n",
    "            content = (\n",
    "                \"You are an AI that has access to a sqlite database. \"\n",
    "                f\"The database has the following tables: {list_tables().split(' ')}\\n\"\n",
    "                \"Do not make any assumptions about what tables or columns exist. \"\n",
    "                \"Instead, pass the list of tables to the 'descibe_tables' function to obtain the schema of the tables.\"\n",
    "                \"You might need to join the tables on the feature N\"\n",
    "                )\n",
    "            ),\n",
    "        HumanMessagePromptTemplate.from_template(\"{input}\"),\n",
    "        MessagesPlaceholder(\n",
    "            variable_name = \"agent_scratchpad\"\n",
    "            )\n",
    "        ]\n",
    "    )\n",
    "\n",
    "agent = OpenAIFunctionsAgent(\n",
    "    llm=chat,\n",
    "    prompt=prompt,\n",
    "    tools=tools\n",
    "    # memory = \n",
    ")\n",
    "\n",
    "agent_executor = AgentExecutor(\n",
    "    agent=agent,\n",
    "    verbose=True,\n",
    "    tools=tools # Must be the same as in agent.\n",
    ")\n",
    "\n",
    "nl_query = \"\"\"\n",
    "What is the average ratio of height to weight of the people in the database?\n",
    "\"\"\"\n",
    "agent_executor(nl_query)"
   ]
  },
  {
   "cell_type": "markdown",
   "id": "d3f867c3-133c-4cb5-9ce2-6fe8d980ab50",
   "metadata": {},
   "source": [
    "----\n",
    "**Take 1**:\n",
    "```text\n",
    "nl_query=\"What is the average height of the people in the database?\"\n",
    "agent_executor(nl_query)\n",
    "\n",
    "> Entering new AgentExecutor chain...\n",
    "Invoking: `run_sqlite_query` with `SELECT AVG(height) FROM people`\n",
    "The following error occuerd: no such table: people\n",
    "Invoking: `describe_tables` with `y`\n",
    "\n",
    "CREATE TABLE y (\n",
    "        id INTEGER PRIMARY KEY,\n",
    "        N TEXT,\n",
    "        H REAL\n",
    "    )\n",
    "Invoking: `run_sqlite_query` with `SELECT AVG(H) FROM y`\n",
    "\n",
    "\n",
    "[(201.89999999999998,)]The average height of the people in the database is approximately 201.9.\n",
    " ```\n",
    "So, the LLM guessed that H stood for height. \n",
    "\n",
    "----\n",
    "\n",
    "Take 2 \n",
    "\n",
    "```\n",
    "nl_query = \"\"\"\n",
    "What is the average ratio of height to weight of the people in the database?\n",
    "\"\"\"\n",
    "agent_executor(nl_query)\n",
    "\n",
    "Invoking: `run_sqlite_query` with `{'query': 'SELECT AVG(height / weight) as avg_ratio FROM y'}`\n",
    "\n",
    "\n",
    "The following error occuerd: no such column: height\n",
    "Invoking: `describe_tables` with `{'table_names': 'y'}`\n",
    "...\n",
    "Invoking: `describe_tables` with `{'table_names': 'gmass'}`\n",
    "\n",
    "\n",
    "Invoking: `run_sqlite_query` with `{'query': 'SELECT AVG(H / W) as avg_ratio FROM y JOIN gmass ON y.N = gmass.N'}`\n",
    "\n",
    "\n",
    "[(1.3564722162000782,)]\n",
    "\n",
    "The average ratio of height to weight of the people in the database is approximately 1.36.\n",
    " ```"
   ]
  },
  {
   "cell_type": "markdown",
   "id": "317a4e97-2ba5-4cd4-928e-15a1d924535c",
   "metadata": {},
   "source": [
    "# Data dictionary DB\n",
    "\n",
    "A data dictionary named `data_dictoinary.txt` will be fed through a text splitter on split charater \"\\n\" and the result put in the chroma database `data_dictionary_vector_store`."
   ]
  },
  {
   "cell_type": "code",
   "execution_count": 9,
   "id": "6aa840fc-1b11-4393-a65a-8b37b9543a4e",
   "metadata": {
    "tags": []
   },
   "outputs": [],
   "source": [
    "from langchain.document_loaders import TextLoader\n",
    "from dotenv import load_dotenv \n",
    "from langchain.text_splitter import CharacterTextSplitter \n",
    "import tiktoken\n",
    "# from langchain.embeddings import OpenAIEmbeddings # depricated\n",
    "from langchain_openai import OpenAIEmbeddings\n",
    "from langchain.embeddings.sentence_transformer import (\n",
    "    SentenceTransformerEmbeddings\n",
    "    )\n",
    "from langchain.vectorstores.chroma import Chroma\n",
    "from langchain.text_splitter import CharacterTextSplitter \n",
    "from langchain_openai import OpenAIEmbeddings"
   ]
  },
  {
   "cell_type": "code",
   "execution_count": 44,
   "id": "f4f97b60-5ca5-4400-a3b1-34dec0eeb3bd",
   "metadata": {
    "tags": []
   },
   "outputs": [
    {
     "name": "stdout",
     "output_type": "stream",
     "text": [
      "The databse is of type <class 'langchain_community.vectorstores.chroma.Chroma'> \n",
      "and has 6 entries.\n"
     ]
    }
   ],
   "source": [
    "embeddings = OpenAIEmbeddings()\n",
    "\n",
    "text_splitter = CharacterTextSplitter(\n",
    "    is_separator_regex=False, \n",
    "    chunk_size = 87, \n",
    "    separator = \"\\n\", \n",
    "    chunk_overlap = 0  \n",
    ")\n",
    "\n",
    "loader = TextLoader(\"data_dictoinary.txt\")\n",
    "docs = loader.load_and_split(\n",
    "    text_splitter=text_splitter,\n",
    ")\n",
    "db = Chroma.from_documents(\n",
    "    documents = docs,\n",
    "    embedding=embeddings,\n",
    "    # Name the directory for the vector store.\n",
    "    persist_directory=\"data_dictionary_vector_store2\"\n",
    ")\n",
    "print(f\"The databse is of type {type(db)} \\n\" \n",
    "      f\"and has {db._collection.count()} entries.\")"
   ]
  },
  {
   "cell_type": "code",
   "execution_count": 14,
   "id": "fe2a805c-8f50-41cb-9f4d-6a3be46d35a9",
   "metadata": {
    "tags": []
   },
   "outputs": [],
   "source": [
    "embeddings = OpenAIEmbeddings()\n",
    "\n",
    "db =  Chroma(\n",
    "    persist_directory=\"data_dictionary_vector_store2\", \n",
    "    embedding_function=embeddings)\n",
    "# Chroma has complied and has a .as_retriever method on its database objects.\n"
   ]
  },
  {
   "cell_type": "code",
   "execution_count": 15,
   "id": "a48c0a9e-abd7-4239-aeea-6ed29659e5a8",
   "metadata": {
    "tags": []
   },
   "outputs": [
    {
     "name": "stdout",
     "output_type": "stream",
     "text": [
      "Column H : represents the height of the person in centimeters.\n",
      "Table y: This table is named y because it contains data about peoples' height.\n"
     ]
    }
   ],
   "source": [
    "# test the vector store\n",
    "results = db.similarity_search(\n",
    "    query = \"what symbol is used to represent a person's height inside a table?\",\n",
    "    k = 2 #Number of results to display. Default 4\n",
    "    )\n",
    "for result in results:\n",
    "    print(result.page_content)"
   ]
  },
  {
   "cell_type": "markdown",
   "id": "f781f11d-6205-42a6-baa8-7a30001a7538",
   "metadata": {},
   "source": [
    "## Retrieval QA for natural language return"
   ]
  },
  {
   "cell_type": "code",
   "execution_count": 17,
   "id": "65770b72-5f6d-46a8-b957-8a3a09abfc82",
   "metadata": {
    "tags": []
   },
   "outputs": [
    {
     "name": "stdout",
     "output_type": "stream",
     "text": [
      "The height of a person is represented by Column H in the table named y.\n"
     ]
    }
   ],
   "source": [
    "from langchain.chains import RetrievalQA \n",
    "# from langchain.chat_models import ChatOpenAI #depricated \n",
    "from langchain_openai import ChatOpenAI\n",
    "from langchain_openai import OpenAIEmbeddings\n",
    "from langchain.vectorstores.chroma import Chroma\n",
    "\n",
    "\"\"\"For debugging, use these two lines. \n",
    "Warning: verbose is hard to read.\"\"\"\n",
    "# import langchain\n",
    "# langchain.debug = True \n",
    "\n",
    "load_dotenv() \n",
    "chat = ChatOpenAI()\n",
    "embeddings = OpenAIEmbeddings()\n",
    "db =  Chroma(persist_directory=\"data_dictionary_vector_store2\", embedding_function=embeddings)\n",
    "# Chroma has complied and has a .as_retriever method on its database objects.\n",
    "retriever = db.as_retriever()\n",
    "\n",
    "chain = RetrievalQA.from_chain_type(\n",
    "    llm=chat,\n",
    "    retriever=retriever,\n",
    "    chain_type=\"stuff\",\n",
    ")\n",
    "\n",
    "query = \"What columns of what table represents the height of a person?\"\n",
    "result = chain(query)\n",
    "\n",
    "print(result['result'])"
   ]
  },
  {
   "cell_type": "markdown",
   "id": "cda6d3c4-e5fa-45fc-9383-39b7f2677ded",
   "metadata": {},
   "source": [
    "## Retrieval QA as a tool"
   ]
  },
  {
   "cell_type": "code",
   "execution_count": 24,
   "id": "ba060d02-69be-4bb2-a4ca-1483faa9bb33",
   "metadata": {
    "tags": []
   },
   "outputs": [
    {
     "data": {
      "text/plain": [
       "['The table that has a feature about height is called \"y\". The name of the feature in table \"y\" that represents height is \"H\".']"
      ]
     },
     "execution_count": 24,
     "metadata": {},
     "output_type": "execute_result"
    }
   ],
   "source": [
    "def data_dictionary_qa(question):\n",
    "    chat = ChatOpenAI()\n",
    "    embeddings = OpenAIEmbeddings()\n",
    "    db =  Chroma(\n",
    "        persist_directory=\"data_dictionary_vector_store2\", \n",
    "        embedding_function=embeddings\n",
    "    )\n",
    "    retriever = db.as_retriever()\n",
    "\n",
    "    chain = RetrievalQA.from_chain_type(\n",
    "        llm=chat,\n",
    "        retriever=retriever,\n",
    "        chain_type=\"stuff\",\n",
    "    )\n",
    "\n",
    "    exchange = chain(question)\n",
    "    return [exchange[\"result\"]]\n",
    "\n",
    "data_dictionary_qa(\"Which table has a feature about height and what is the name of that feature??\")"
   ]
  },
  {
   "cell_type": "code",
   "execution_count": 25,
   "id": "d98c779c-91d7-440d-9f3b-511b8004d69a",
   "metadata": {
    "tags": []
   },
   "outputs": [
    {
     "data": {
      "text/plain": [
       "['The table \"gmass\" has a feature about weight.']"
      ]
     },
     "execution_count": 25,
     "metadata": {},
     "output_type": "execute_result"
    }
   ],
   "source": [
    "data_dictionary_qa_tool = Tool.from_function(\n",
    "    name=\"data_dictionary_qa\", \n",
    "    description=\"\"\"\n",
    "    Takes in questions about the names and meaning of names of tables and columns \n",
    "    and gives answers based on the contents of the file data_dictionary.txt.\n",
    "    \"\"\",\n",
    "    func=data_dictionary_qa,\n",
    "    return_direct=True\n",
    ")\n",
    "# Check that it works:\n",
    "data_dictionary_qa_tool(\"\"\"\n",
    "which table has a feature about weight?\"\"\")"
   ]
  },
  {
   "cell_type": "markdown",
   "id": "2be2c04d-d51e-446e-bffe-39958eb4a5a3",
   "metadata": {
    "tags": []
   },
   "source": [
    "## Table informed, query, schema, and DD equipted"
   ]
  },
  {
   "cell_type": "code",
   "execution_count": 27,
   "id": "9fd77cf3-b4d2-4659-9ecb-1a42775c3fe3",
   "metadata": {
    "tags": []
   },
   "outputs": [
    {
     "name": "stdout",
     "output_type": "stream",
     "text": [
      "\n",
      "\n",
      "\u001b[1m> Entering new AgentExecutor chain...\u001b[0m\n",
      "\u001b[32;1m\u001b[1;3m\n",
      "Invoking: `run_sqlite_query` with `{'query': 'SELECT AVG(height/weight) as avg_ratio FROM people'}`\n",
      "\n",
      "\n",
      "\u001b[0m\u001b[36;1m\u001b[1;3mThe following error occuerd: no such table: people\u001b[0m\u001b[32;1m\u001b[1;3m\n",
      "Invoking: `describe_tables` with `{'table_names': 'y'}`\n",
      "\n",
      "\n",
      "\u001b[0m\u001b[33;1m\u001b[1;3mCREATE TABLE y (\n",
      "        id INTEGER PRIMARY KEY,\n",
      "        N TEXT,\n",
      "        H REAL\n",
      "    )\u001b[0m\u001b[32;1m\u001b[1;3m\n",
      "Invoking: `run_sqlite_query` with `{'query': 'SELECT AVG(H) as avg_height FROM y'}`\n",
      "\n",
      "\n",
      "\u001b[0m\u001b[36;1m\u001b[1;3m[(201.89999999999998,)]\u001b[0m\u001b[32;1m\u001b[1;3m\n",
      "Invoking: `run_sqlite_query` with `{'query': 'SELECT AVG(H) as avg_height FROM gmass'}`\n",
      "\n",
      "\n",
      "\u001b[0m\u001b[36;1m\u001b[1;3mThe following error occuerd: no such column: H\u001b[0m\u001b[32;1m\u001b[1;3m\n",
      "Invoking: `describe_tables` with `{'table_names': 'gmass'}`\n",
      "\n",
      "\n",
      "\u001b[0m\u001b[33;1m\u001b[1;3m\u001b[0m\u001b[32;1m\u001b[1;3m\n",
      "Invoking: `run_sqlite_query` with `{'query': 'SELECT AVG(gmass) as avg_weight FROM gmass'}`\n",
      "\n",
      "\n",
      "\u001b[0m\u001b[36;1m\u001b[1;3mThe following error occuerd: no such column: gmass\u001b[0m\u001b[32;1m\u001b[1;3m\n",
      "Invoking: `data_dictionary_qa` with `{'question': \"What is the meaning of the 'y' table in the database?\"}`\n",
      "\n",
      "\n",
      "\u001b[0m\u001b[38;5;200m\u001b[1;3m[\"The 'y' table in the database contains data about peoples' height.\"]\u001b[0m\n",
      "\u001b[32;1m\u001b[1;3m\u001b[0m\n",
      "\n",
      "\u001b[1m> Finished chain.\u001b[0m\n"
     ]
    },
    {
     "data": {
      "text/plain": [
       "{'input': '\\nWhat is the average ratio of height to weight of the people in the database?\\n',\n",
       " 'output': [\"The 'y' table in the database contains data about peoples' height.\"]}"
      ]
     },
     "execution_count": 27,
     "metadata": {},
     "output_type": "execute_result"
    }
   ],
   "source": [
    "load_dotenv() # for David Cherney's OpenAI account.\n",
    "chat=ChatOpenAI()\n",
    "tools=[run_query_tool, describe_tables_tool, data_dictionary_qa_tool]\n",
    "\n",
    "prompt = ChatPromptTemplate(messages=[\n",
    "    SystemMessage(content=(\n",
    "        \"You are an AI that \"\n",
    "        \"1. has access to an sqlite database \"\n",
    "        # \"2. answers questions that involve data in that sqlite database.\"\n",
    "        # \"You can query that database with 'run_query_tool'.\"\n",
    "        # \"Do not make any assumptions about what tables exist in the database when making queries. \"\n",
    "        # \"6 people will die if you make any assumptions about what features exist in tables when making queries.\"\n",
    "        f\"The database has the following tables: {list_tables().split(' ')}\\n\"\n",
    "        # \"To see the columns in a table you can view the schema of the table with 'descibe_tables'.\"\n",
    "        # \"To understand what the names of the tables and columns represent, \"\n",
    "        # \"ask natural language question through data_dictionary_qa_tool\"\n",
    "    )),\n",
    "    HumanMessagePromptTemplate.from_template(\n",
    "        # Use the following steps to answer this question: \n",
    "        \"\"\"\n",
    "        {input} \n",
    "        \"\"\"),\n",
    "        # step 1. Pass the following to data_dictionary_qa_tool \"Which tables and columns are relevant to this question: {input}\" \n",
    "        # Step 2. Use the information from step 1 to the  run_query_tool\n",
    "        # step 3: answer the question using the results of that query\n",
    "\n",
    "    MessagesPlaceholder(variable_name = \"agent_scratchpad\")\n",
    "    ]\n",
    ")\n",
    "\n",
    "agent = OpenAIFunctionsAgent(\n",
    "    llm=chat,\n",
    "    prompt=prompt,\n",
    "    tools=tools\n",
    "    # memory = \n",
    ")\n",
    "\n",
    "agent_executor = AgentExecutor(\n",
    "    agent=agent,\n",
    "    verbose=True,\n",
    "    tools=tools # Must be the same as in agent.\n",
    ")\n",
    "\n",
    "nl_query = \"\"\"\n",
    "What is the average ratio of height to weight of the people in the database?\n",
    "\"\"\"\n",
    "agent_executor(nl_query)"
   ]
  },
  {
   "cell_type": "markdown",
   "id": "07737870-20a6-4120-87f5-f01996fdd14d",
   "metadata": {},
   "source": [
    "----\n",
    "take 1\n",
    "\n",
    "```\n",
    "Invoking: `run_sqlite_query` with `{'query': 'SELECT AVG(height / weight) AS average_ratio FROM people'}`\n",
    "The following error occuerd: no such table: people\n",
    "Invoking: `describe_tables` with `{'table_names': 'y'}`\n",
    "CREATE TABLE y (\n",
    "        id INTEGER PRIMARY KEY,\n",
    "        N TEXT,\n",
    "        H REAL\n",
    "    )\n",
    "Invoking: `run_sqlite_query` with `{'query': 'SELECT AVG(H) AS average_ratio FROM y'}`\n",
    "\n",
    "\n",
    "[(201.89999999999998,)]The average ratio of height to weight of the people in the database is approximately 201.9.\n",
    "```\n",
    "\n",
    "----"
   ]
  },
  {
   "cell_type": "markdown",
   "id": "7a700557-a990-41ae-be64-e403b5f90bea",
   "metadata": {},
   "source": [
    "So, it made a mistake just calculated the average value of H.\n",
    "\n",
    "--- \n",
    "take 2\n",
    "```text\n",
    "Invoking: `run_sqlite_query` with `{'query': 'SELECT AVG(height / weight) AS average_ratio FROM gmass'}`\n",
    "The following error occuerd: no such column: height\n",
    "Invoking: `data_dictionary_qa` with `{'question': \"What is the meaning of the 'gmass' table?\"}`\n",
    "The 'gmass' table contains data about peoples' weight.\n",
    "Invoking: `data_dictionary_qa` with `{'question': \"What is the meaning of the 'y' table?\"}`\n",
    "The 'y' table contains data about people's height.\n",
    "\n",
    "Invoking: `run_sqlite_query` with `{'query': 'SELECT AVG(y.height / gmass.weight) AS average_ratio FROM y INNER JOIN gmass ON y.id = gmass.id'}`\n",
    "\n",
    "The following error occuerd: no such column: y.height\n",
    "Invoking: `run_sqlite_query` with `{'query': 'SELECT AVG(gmass.height / gmass.weight) AS average_ratio FROM gmass'}`\n",
    "\n",
    "\n",
    "The following error occuerd: no such column: gmass.height\n",
    "Invoking: `describe_tables` with `{'table_names': ['gmass']}`\n",
    "\n",
    "\n",
    "CREATE TABLE gmass (\n",
    "        id INTEGER PRIMARY KEY,\n",
    "        N TEXT,\n",
    "        W REAL\n",
    "    )\n",
    "Invoking: `data_dictionary_qa` with `{'question': \"What is the meaning of the 'gmass' table columns?\"}`\n",
    "\n",
    "\n",
    "The 'gmass' table has a column named 'W' which represents the weight of a person in pounds.\n",
    "Invoking: `describe_tables` with `{'table_names': ['y']}`\n",
    "\n",
    "\n",
    "CREATE TABLE y (\n",
    "        id INTEGER PRIMARY KEY,\n",
    "        N TEXT,\n",
    "        H REAL\n",
    "    )\n",
    "Invoking: `data_dictionary_qa` with `{'question': \"What is the meaning of the 'y' table columns?\"}`\n",
    "\n",
    "\n",
    "The meaning of the columns in the 'y' table is not provided in the given context.\n",
    "Invoking: `run_sqlite_query` with `{'query': 'SELECT AVG(y.H / gmass.W) AS average_ratio FROM y INNER JOIN gmass ON y.id = gmass.id'}`\n",
    "\n",
    "\n",
    "[(1.3564722162000782,)]The average ratio of height to weight of the people in the database is approximately 1.356.\n",
    "```\n",
    "\n",
    "---"
   ]
  },
  {
   "cell_type": "markdown",
   "id": "1c24976b-3106-4246-a11b-91bf65cad71b",
   "metadata": {},
   "source": [
    "take 3\n",
    "\n",
    "\n",
    "```text\n",
    "Invoking: `data_dictionary_qa` with `average ratio of height to weight`\n",
    "\n",
    "\n",
    "To calculate the average ratio of height to weight, you would need to divide the total height by the total weight. However, since I don't have access to the specific data in your tables, I cannot provide you with the exact average ratio.\n",
    "Invoking: `describe_tables` with `y`\n",
    "\n",
    "\n",
    "CREATE TABLE y (\n",
    "        id INTEGER PRIMARY KEY,\n",
    "        N TEXT,\n",
    "        H REAL\n",
    "    )\n",
    "Invoking: `describe_tables` with `gmass`\n",
    "\n",
    "\n",
    "\n",
    "Invoking: `describe_tables` with `gmass`\n",
    "\n",
    "\n",
    "\n",
    "Invoking: `describe_tables` with `gmass`\n",
    "\n",
    "\n",
    "\n",
    "Invoking: `run_sqlite_query` with `SELECT AVG(y.H / gmass.W) AS average_ratio FROM y JOIN gmass ON y.id = gmass.id`\n",
    "\n",
    "\n",
    "[(1.3564722162000782,)]The average ratio of height to weight of the people in the database is approximately 1.36.\n",
    "```"
   ]
  },
  {
   "cell_type": "code",
   "execution_count": null,
   "id": "2fc262cd-e063-495d-b1b7-1a9d0e9fae76",
   "metadata": {},
   "outputs": [],
   "source": []
  },
  {
   "cell_type": "code",
   "execution_count": null,
   "id": "b6e96118-3a2e-490d-8fa4-13f00083e809",
   "metadata": {},
   "outputs": [],
   "source": []
  },
  {
   "cell_type": "code",
   "execution_count": null,
   "id": "34f79606-6af6-4c5c-9cc7-901704ae9f06",
   "metadata": {},
   "outputs": [],
   "source": []
  },
  {
   "cell_type": "code",
   "execution_count": null,
   "id": "f83d1c99-1530-41d6-b900-a2910fd43fc2",
   "metadata": {},
   "outputs": [],
   "source": []
  },
  {
   "cell_type": "code",
   "execution_count": null,
   "id": "ad1a9224-be13-45e3-b4c1-b51475b6eb90",
   "metadata": {},
   "outputs": [],
   "source": []
  }
 ],
 "metadata": {
  "kernelspec": {
   "display_name": "Python [conda env:langchain_course_env]",
   "language": "python",
   "name": "conda-env-langchain_course_env-py"
  },
  "language_info": {
   "codemirror_mode": {
    "name": "ipython",
    "version": 3
   },
   "file_extension": ".py",
   "mimetype": "text/x-python",
   "name": "python",
   "nbconvert_exporter": "python",
   "pygments_lexer": "ipython3",
   "version": "3.11.5"
  }
 },
 "nbformat": 4,
 "nbformat_minor": 5
}

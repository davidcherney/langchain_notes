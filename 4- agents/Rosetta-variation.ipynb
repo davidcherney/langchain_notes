{
 "cells": [
  {
   "cell_type": "markdown",
   "id": "b734f274-b78d-4213-aafa-2bbd5d74296c",
   "metadata": {},
   "source": [
    "# My own sql database"
   ]
  },
  {
   "cell_type": "markdown",
   "id": "103fe9f7-2916-4358-b05b-1dad29658078",
   "metadata": {},
   "source": [
    "I will create a database with two tables. \n",
    "- One will have names of people and their height\n",
    "- one will have names of people and their weight.\n",
    "\n",
    "The names of the tables and of the features will be gibberish; randomly generated strings"
   ]
  },
  {
   "cell_type": "code",
   "execution_count": 1,
   "id": "6cc79663-7b6a-4d4d-b71a-f3233bac7421",
   "metadata": {
    "tags": []
   },
   "outputs": [
    {
     "data": {
      "text/plain": [
       "'kqi'"
      ]
     },
     "execution_count": 1,
     "metadata": {},
     "output_type": "execute_result"
    }
   ],
   "source": [
    "import random\n",
    "import string\n",
    "\n",
    "def generate_random_string(length):\n",
    "    letters = string.ascii_lowercase\n",
    "    return ''.join(random.choice(letters) for _ in range(length))\n",
    "\n",
    "# Generate a random string of length 3\n",
    "generate_random_string(3)"
   ]
  },
  {
   "cell_type": "code",
   "execution_count": 2,
   "id": "b387dc88-885c-43a5-b62f-e5cd7f4d1a36",
   "metadata": {
    "tags": []
   },
   "outputs": [
    {
     "data": {
      "text/plain": [
       "'fgm'"
      ]
     },
     "execution_count": 2,
     "metadata": {},
     "output_type": "execute_result"
    }
   ],
   "source": [
    "generate_random_string(3)"
   ]
  },
  {
   "cell_type": "code",
   "execution_count": 3,
   "id": "8ad2d456-d95b-4f8c-9e71-b3d157d0341b",
   "metadata": {
    "tags": []
   },
   "outputs": [],
   "source": [
    "import sqlite3\n",
    "\n",
    "# Connect to the database (creates a new database if it doesn't exist)\n",
    "conn = sqlite3.connect('trial.sqlite')\n",
    "\n",
    "# Create a cursor object to execute SQL statements\n",
    "cursor = conn.cursor()\n",
    "\n",
    "# Create the first table\n",
    "cursor.execute('''\n",
    "    CREATE TABLE IF NOT EXISTS mml (\n",
    "        id INTEGER PRIMARY KEY,\n",
    "        afe TEXT,\n",
    "        tio REAL\n",
    "    )\n",
    "''')\n",
    "y_data = [\n",
    "    (1, 'Alice', 205.1),\n",
    "    (2, 'Bob', 201.2),\n",
    "    (3, 'Cat', 199.4)\n",
    "]\n",
    "cursor.executemany(\n",
    "    'INSERT INTO mml VALUES (?, ?, ?)', \n",
    "    y_data\n",
    ")\n",
    "\n",
    "\n",
    "# Create the second table\n",
    "cursor.execute('''\n",
    "    CREATE TABLE IF NOT EXISTS fsr (\n",
    "        id INTEGER PRIMARY KEY,\n",
    "        hpx TEXT,\n",
    "        cnv REAL\n",
    "    )\n",
    "''')\n",
    "gmass_data = [\n",
    "    (1, 'Alice',175.2 ),\n",
    "    (2, 'Bob', 156.2),\n",
    "    (3, 'Cat', 123.8)\n",
    "]\n",
    "cursor.executemany(\n",
    "    'INSERT INTO fsr VALUES (?, ?, ?)', \n",
    "    gmass_data\n",
    ")\n",
    "# Commit the changes and close the connection\n",
    "conn.commit()\n",
    "conn.close()"
   ]
  },
  {
   "cell_type": "markdown",
   "id": "14a0beb8-4836-4a48-89a3-d7d67dd7a0af",
   "metadata": {},
   "source": [
    "Now the schema does not sematically reveal anything about the meaning of the tables or features. That information is stored in data_dictionary_variaton.txt."
   ]
  },
  {
   "cell_type": "code",
   "execution_count": 17,
   "id": "ac02ad2b-86f1-42bd-88a9-cc2cff0b3bfa",
   "metadata": {
    "tags": []
   },
   "outputs": [
    {
     "name": "stdout",
     "output_type": "stream",
     "text": [
      "CREATE TABLE mml (\n",
      "        id INTEGER PRIMARY KEY,\n",
      "        afe TEXT,\n",
      "        tio REAL\n",
      "    )\n",
      "CREATE TABLE fsr (\n",
      "        id INTEGER PRIMARY KEY,\n",
      "        hpx TEXT,\n",
      "        cnv REAL\n",
      "    )\n"
     ]
    }
   ],
   "source": [
    "conn = sqlite3.connect('trial.sqlite')\n",
    "cursor = conn.cursor()\n",
    "cursor.execute(\"SELECT sql FROM sqlite_master WHERE type='table';\")\n",
    "\n",
    "# Fetch all rows containing table schema\n",
    "table_schemas = cursor.fetchall()\n",
    "\n",
    "# Print the table schemas\n",
    "for schema in table_schemas:\n",
    "    print(schema[0])\n",
    "conn.commit()\n",
    "conn.close()"
   ]
  },
  {
   "cell_type": "markdown",
   "id": "01bce2a1-7683-462a-9dcd-7918652482a8",
   "metadata": {},
   "source": [
    "# Queries"
   ]
  },
  {
   "cell_type": "code",
   "execution_count": 6,
   "id": "e9c7c86d-8f72-4d22-8413-b7ac70fac1ce",
   "metadata": {
    "tags": []
   },
   "outputs": [
    {
     "name": "stdout",
     "output_type": "stream",
     "text": [
      "[(1, 'Alice', 205.1), (2, 'Bob', 201.2), (3, 'Cat', 199.4)]\n",
      "[(1, 'Alice', 175.2), (2, 'Bob', 156.2), (3, 'Cat', 123.8)]\n"
     ]
    }
   ],
   "source": [
    "import sqlite3\n",
    "\n",
    "\n",
    "# Define a finction to be made into a tool. \n",
    "def run_sqlite_query(query):\n",
    "    conn = sqlite3.connect('trial.sqlite')\n",
    "    c =  conn.cursor() #Cursor is the object that allows us to access to the db.\n",
    "    try:\n",
    "        c.execute(query)\n",
    "        result = c.fetchall() \n",
    "    except sqlite3.OperationalError as err:\n",
    "        result = f\"The following error occuerd: {str(err)}\"\n",
    "    conn.commit()\n",
    "    conn.close()\n",
    "    return result\n",
    "\n",
    "# check that query works\n",
    "print(run_sqlite_query(\"\"\"\n",
    "SELECT * FROM mml;\n",
    "\"\"\"))\n",
    "print(run_sqlite_query(\"\"\"\n",
    "SELECT * FROM fsr;\n",
    "\"\"\"))"
   ]
  },
  {
   "cell_type": "markdown",
   "id": "eec63335-9e8f-4ef5-8edb-3ee330ea8f1f",
   "metadata": {
    "tags": []
   },
   "source": [
    "## Create query tool "
   ]
  },
  {
   "cell_type": "code",
   "execution_count": 7,
   "id": "bc04d5b8-6bf7-430a-a1fb-0bb524c252a4",
   "metadata": {
    "tags": []
   },
   "outputs": [
    {
     "data": {
      "text/plain": [
       "[(1, 'Alice', 205.1), (2, 'Bob', 201.2), (3, 'Cat', 199.4)]"
      ]
     },
     "execution_count": 7,
     "metadata": {},
     "output_type": "execute_result"
    }
   ],
   "source": [
    "from langchain.tools import Tool\n",
    "\n",
    "run_query_tool = Tool.from_function(\n",
    "    name=\"run_sqlite_query\", \n",
    "    description=\"Run a sqlite query.\",\n",
    "    func=run_sqlite_query,\n",
    ")\n",
    "# Check that it works:\n",
    "run_query_tool(\"\"\"\n",
    "SELECT * FROM mml \n",
    "\"\"\")"
   ]
  },
  {
   "cell_type": "markdown",
   "id": "a91a5455-47fb-497f-a76f-1d89bc3637ed",
   "metadata": {
    "tags": []
   },
   "source": [
    "## Agent aware of Query Tool"
   ]
  },
  {
   "cell_type": "code",
   "execution_count": 9,
   "id": "9371793e-cf5f-4c57-b805-07fe4b4cf911",
   "metadata": {
    "tags": []
   },
   "outputs": [
    {
     "name": "stdout",
     "output_type": "stream",
     "text": [
      "\n",
      "\n",
      "\u001b[1m> Entering new AgentExecutor chain...\u001b[0m\n",
      "\u001b[32;1m\u001b[1;3m\n",
      "Invoking: `run_sqlite_query` with `{'query': 'SELECT AVG(height) FROM people'}`\n",
      "\n",
      "\n",
      "\u001b[0m\u001b[36;1m\u001b[1;3mThe following error occuerd: no such table: people\u001b[0m\u001b[32;1m\u001b[1;3mI'm sorry, but it seems that there is no table named \"people\" in the database. Please make sure that the table exists and try again.\u001b[0m\n",
      "\n",
      "\u001b[1m> Finished chain.\u001b[0m\n"
     ]
    },
    {
     "data": {
      "text/plain": [
       "{'input': 'What is the average height of the people in the database?',\n",
       " 'output': 'I\\'m sorry, but it seems that there is no table named \"people\" in the database. Please make sure that the table exists and try again.'}"
      ]
     },
     "execution_count": 9,
     "metadata": {},
     "output_type": "execute_result"
    }
   ],
   "source": [
    "from langchain.agents import OpenAIFunctionsAgent\n",
    "\n",
    "from langchain.prompts import ChatPromptTemplate\n",
    "from langchain.schema import SystemMessage\n",
    "from langchain.prompts import HumanMessagePromptTemplate\n",
    "from langchain.prompts import MessagesPlaceholder\n",
    "\n",
    "from langchain.agents import AgentExecutor\n",
    "\n",
    "from langchain_openai import ChatOpenAI\n",
    "from dotenv import load_dotenv\n",
    "\n",
    "load_dotenv() # for David Cherney's OpenAI account.\n",
    "chat=ChatOpenAI()\n",
    "tools=[run_query_tool]\n",
    "\n",
    "prompt = ChatPromptTemplate(\n",
    "    messages=[\n",
    "        SystemMessage(\n",
    "            content = (\n",
    "                \"You are an AI that has access to a sqlite database. \"\n",
    "                )\n",
    "            ),\n",
    "        HumanMessagePromptTemplate.from_template(\"{input}\"),\n",
    "        MessagesPlaceholder(\n",
    "            variable_name = \"agent_scratchpad\"\n",
    "            )\n",
    "        ]\n",
    "    )\n",
    "\n",
    "agent = OpenAIFunctionsAgent(\n",
    "    llm=chat,\n",
    "    prompt=prompt,\n",
    "    tools=tools\n",
    "    # memory = \n",
    ")\n",
    "\n",
    "agent_executor = AgentExecutor(\n",
    "    agent=agent,\n",
    "    verbose=True,\n",
    "    tools=tools # Must be the same as in agent.\n",
    ")\n",
    "\n",
    "nl_query=\"What is the average height of the people in the database?\"\n",
    "agent_executor(nl_query)"
   ]
  },
  {
   "cell_type": "markdown",
   "id": "d2f0acce-67d0-491a-a67d-2b8839de45e3",
   "metadata": {},
   "source": [
    "The LLM guessed that there was a table named people and a feature in that table called height. It needs to be informed of the names of the taabls and the schema. To do that we will\n",
    "1. create a function to list the tables and add that list to the systemprompt\n",
    "2. create a function that returns the schema, create a tool for that function, and thus allow the agent to look up the schema as needed. "
   ]
  },
  {
   "cell_type": "markdown",
   "id": "2e22fad4-07d4-4596-83f2-ded7433627b6",
   "metadata": {
    "tags": []
   },
   "source": [
    "# List tables function\n",
    "This is needed so that the query tool can be informed of the names of the tables."
   ]
  },
  {
   "cell_type": "code",
   "execution_count": 11,
   "id": "9f3ba061-e72b-4343-beeb-ee16b1439be3",
   "metadata": {
    "tags": []
   },
   "outputs": [
    {
     "data": {
      "text/plain": [
       "'mml fsr'"
      ]
     },
     "execution_count": 11,
     "metadata": {},
     "output_type": "execute_result"
    }
   ],
   "source": [
    "import sqlite3\n",
    "\n",
    "def list_tables():\n",
    "    conn = sqlite3.connect(\"trial.sqlite\")\n",
    "    c = conn.cursor()\n",
    "    # List tables in the database using SQL.\n",
    "    c.execute(\"SELECT name FROM sqlite_master WHERE type='table';\")\n",
    "    rows = c.fetchall() \n",
    "    # SQL format issue:\n",
    "    # Each item in rows was a 2-tuple with first item a table name as a string, \n",
    "    # second item blank. Replace all toples with their fist entry.\n",
    "    rows = [row[0] for row in rows if row[0] is not None]\n",
    "    # Reformat as a string with the name of one table on each line. \n",
    "    tables = \" \".join(rows)\n",
    "    conn.commit()\n",
    "    conn.close()\n",
    "    return tables\n",
    "\n",
    "tables = list_tables()\n",
    "tables"
   ]
  },
  {
   "cell_type": "markdown",
   "id": "72be81cc-38e1-4d4a-ad1f-ed5a981df25e",
   "metadata": {
    "tags": []
   },
   "source": [
    "## Tables informed Agent with Query Tool"
   ]
  },
  {
   "cell_type": "code",
   "execution_count": 12,
   "id": "e358a353-7669-4dab-9d22-412bbc83712a",
   "metadata": {
    "tags": []
   },
   "outputs": [
    {
     "name": "stdout",
     "output_type": "stream",
     "text": [
      "\n",
      "\n",
      "\u001b[1m> Entering new AgentExecutor chain...\u001b[0m\n",
      "\u001b[32;1m\u001b[1;3m\n",
      "Invoking: `run_sqlite_query` with `{'query': 'SELECT AVG(height) FROM mml'}`\n",
      "\n",
      "\n",
      "\u001b[0m\u001b[36;1m\u001b[1;3mThe following error occuerd: no such column: height\u001b[0m\u001b[32;1m\u001b[1;3m\n",
      "Invoking: `run_sqlite_query` with `{'query': 'SELECT AVG(height) FROM fsr'}`\n",
      "\n",
      "\n",
      "\u001b[0m\u001b[36;1m\u001b[1;3mThe following error occuerd: no such column: height\u001b[0m\u001b[32;1m\u001b[1;3mI apologize, but it seems that there is no \"height\" column in any of the tables in the database. Therefore, I cannot calculate the average height of the people in the database.\u001b[0m\n",
      "\n",
      "\u001b[1m> Finished chain.\u001b[0m\n"
     ]
    },
    {
     "data": {
      "text/plain": [
       "{'input': 'What is the average height of the people in the database?',\n",
       " 'output': 'I apologize, but it seems that there is no \"height\" column in any of the tables in the database. Therefore, I cannot calculate the average height of the people in the database.'}"
      ]
     },
     "execution_count": 12,
     "metadata": {},
     "output_type": "execute_result"
    }
   ],
   "source": [
    "from langchain.agents import OpenAIFunctionsAgent\n",
    "\n",
    "from langchain.prompts import ChatPromptTemplate\n",
    "from langchain.schema import SystemMessage\n",
    "from langchain.prompts import HumanMessagePromptTemplate\n",
    "from langchain.prompts import MessagesPlaceholder\n",
    "\n",
    "from langchain.agents import AgentExecutor\n",
    "\n",
    "from langchain_openai import ChatOpenAI\n",
    "from dotenv import load_dotenv\n",
    "\n",
    "load_dotenv() # for David Cherney's OpenAI account.\n",
    "chat=ChatOpenAI()\n",
    "tools=[run_query_tool]\n",
    "\n",
    "prompt = ChatPromptTemplate(\n",
    "    messages=[\n",
    "        SystemMessage(\n",
    "            content = (\n",
    "                \"You are an AI that has access to a sqlite database. \"\n",
    "                f\"The database has the following tables: {list_tables().split(' ')}\\n\"\n",
    "                \"Do not make any assumptions about what tables exist. \"\n",
    "                )\n",
    "            ),\n",
    "        HumanMessagePromptTemplate.from_template(\"{input}\"),\n",
    "        MessagesPlaceholder(\n",
    "            variable_name = \"agent_scratchpad\"\n",
    "            )\n",
    "        ]\n",
    "    )\n",
    "\n",
    "agent = OpenAIFunctionsAgent(\n",
    "    llm=chat,\n",
    "    prompt=prompt,\n",
    "    tools=tools\n",
    "    # memory = \n",
    ")\n",
    "\n",
    "agent_executor = AgentExecutor(\n",
    "    agent=agent,\n",
    "    verbose=True,\n",
    "    tools=tools # Must be the same as in agent.\n",
    ")\n",
    "\n",
    "nl_query=\"What is the average height of the people in the database?\"\n",
    "agent_executor(nl_query)"
   ]
  },
  {
   "cell_type": "markdown",
   "id": "e58b1aa5-e2ab-4826-905b-64ed680d4cbd",
   "metadata": {
    "tags": []
   },
   "source": [
    "The LLM \n",
    "- knew that the names of the tables \n",
    "- assumed there was a feature called height in one of those tables and repeatedly went looking for it."
   ]
  },
  {
   "cell_type": "markdown",
   "id": "510b8a94-94c7-4f28-af69-6d9015b032b6",
   "metadata": {},
   "source": [
    "## Tool for examining schema"
   ]
  },
  {
   "cell_type": "code",
   "execution_count": 16,
   "id": "0bee7f74-efe4-40e0-9599-2787af705048",
   "metadata": {
    "tags": []
   },
   "outputs": [
    {
     "name": "stdout",
     "output_type": "stream",
     "text": [
      "CREATE TABLE mml (\n",
      "        id INTEGER PRIMARY KEY,\n",
      "        afe TEXT,\n",
      "        tio REAL\n",
      "    )\n",
      "CREATE TABLE fsr (\n",
      "        id INTEGER PRIMARY KEY,\n",
      "        hpx TEXT,\n",
      "        cnv REAL\n",
      "    )\n"
     ]
    }
   ],
   "source": [
    "def describe_tables(table_names):\n",
    "    conn = sqlite3.connect(\"trial.sqlite\")\n",
    "    c = conn.cursor()\n",
    "    # Create a string that is a list of tables for SQL syntax. \n",
    "    # e.g. tables = \"WHERE name in ('users','orders','products');\" .\n",
    "    tables = ', '.join(\"'\"+ table + \"'\" for table in table_names) \n",
    "    schemas_tuples = c.execute(\n",
    "        \"SELECT sql \"\n",
    "        \"FROM sqlite_master \" \n",
    "        f\"WHERE type='table' and name IN ({tables});\"\n",
    "        )\n",
    "    schemas_tuples = list(schemas_tuples) # Seems to make it more permananet.\n",
    "    schemas = [schema_tuple[0] for schema_tuple in schemas_tuples \n",
    "           if schema_tuple[0] is not None]\n",
    "    schemas_string = '\\n'.join(schemas)\n",
    "    conn.commit()\n",
    "    conn.close()\n",
    "    return schemas_string\n",
    "\n",
    "describe_tables_tool = Tool.from_function(\n",
    "    name=\"describe_tables\",\n",
    "    description=(\n",
    "        \"Gven a list of table names, \" \n",
    "        + \"returns the schema of those tables.\"\n",
    "        ),\n",
    "    func=describe_tables,\n",
    " #   args_schema=DescribeTablesArgsSchema \n",
    ")\n",
    "print(describe_tables(table_names = list_tables().split(' ')))"
   ]
  },
  {
   "cell_type": "markdown",
   "id": "f0de4535-c0fb-4bf9-a565-4c5ec1f5d064",
   "metadata": {},
   "source": [
    "## Table informed, query and schema tools"
   ]
  },
  {
   "cell_type": "code",
   "execution_count": 18,
   "id": "24b90c79-75fc-4662-9136-00eb772fb0dc",
   "metadata": {
    "tags": []
   },
   "outputs": [
    {
     "name": "stdout",
     "output_type": "stream",
     "text": [
      "\n",
      "\n",
      "\u001b[1m> Entering new AgentExecutor chain...\u001b[0m\n",
      "\u001b[32;1m\u001b[1;3m\n",
      "Invoking: `run_sqlite_query` with `{'query': 'SELECT AVG(height) FROM mml'}`\n",
      "\n",
      "\n",
      "\u001b[0m\u001b[36;1m\u001b[1;3mThe following error occuerd: no such column: height\u001b[0m\u001b[32;1m\u001b[1;3m\n",
      "Invoking: `describe_tables` with `{'table_names': 'mml'}`\n",
      "\n",
      "\n",
      "\u001b[0m\u001b[33;1m\u001b[1;3m\u001b[0m\u001b[32;1m\u001b[1;3m\n",
      "Invoking: `describe_tables` with `{'table_names': 'mml'}`\n",
      "\n",
      "\n",
      "\u001b[0m\u001b[33;1m\u001b[1;3m\u001b[0m\u001b[32;1m\u001b[1;3m\n",
      "Invoking: `describe_tables` with `{'table_names': 'mml'}`\n",
      "\n",
      "\n",
      "\u001b[0m\u001b[33;1m\u001b[1;3m\u001b[0m\u001b[32;1m\u001b[1;3m\n",
      "Invoking: `describe_tables` with `{'table_names': 'mml'}`\n",
      "\n",
      "\n",
      "\u001b[0m\u001b[33;1m\u001b[1;3m\u001b[0m\u001b[32;1m\u001b[1;3mIt seems that the 'mml' table does not have a column named 'height'. Can you provide the correct column name for the height information?\u001b[0m\n",
      "\n",
      "\u001b[1m> Finished chain.\u001b[0m\n"
     ]
    },
    {
     "data": {
      "text/plain": [
       "{'input': 'What is the average height of the people in the database?',\n",
       " 'output': \"It seems that the 'mml' table does not have a column named 'height'. Can you provide the correct column name for the height information?\"}"
      ]
     },
     "execution_count": 18,
     "metadata": {},
     "output_type": "execute_result"
    }
   ],
   "source": [
    "load_dotenv() # for David Cherney's OpenAI account.\n",
    "chat=ChatOpenAI()\n",
    "# Give the agent the new tool.\n",
    "tools=[run_query_tool, describe_tables_tool]\n",
    "\n",
    "prompt = ChatPromptTemplate(\n",
    "    messages=[\n",
    "        SystemMessage(\n",
    "            content = (\n",
    "                \"You are an AI that has access to a sqlite database. \"\n",
    "                f\"The database has the following tables: {list_tables().split(' ')}\\n\"\n",
    "                \"Do not make any assumptions about what tables or columns exist. \"\n",
    "                \"Instead, pass the list of tables to the 'descibe_tables' function to obtain the schema of the tables.\"\n",
    "                \"You might need to join the tables on the feature N\"\n",
    "                )\n",
    "            ),\n",
    "        HumanMessagePromptTemplate.from_template(\"{input}\"),\n",
    "        MessagesPlaceholder(\n",
    "            variable_name = \"agent_scratchpad\"\n",
    "            )\n",
    "        ]\n",
    "    )\n",
    "\n",
    "agent = OpenAIFunctionsAgent(\n",
    "    llm=chat,\n",
    "    prompt=prompt,\n",
    "    tools=tools\n",
    "    # memory = \n",
    ")\n",
    "\n",
    "agent_executor = AgentExecutor(\n",
    "    agent=agent,\n",
    "    verbose=True,\n",
    "    tools=tools # Must be the same as in agent.\n",
    ")\n",
    "\n",
    "nl_query = \"What is the average height of the people in the database?\"\n",
    "agent_executor(nl_query)"
   ]
  },
  {
   "cell_type": "markdown",
   "id": "317a4e97-2ba5-4cd4-928e-15a1d924535c",
   "metadata": {},
   "source": [
    "# Data dictionary DB\n",
    "\n",
    "A data dictionary named `data_dictoinary.txt` will be fed through a text splitter on split charater \"\\n\" and the result put in the chroma database `data_dictionary_vector_store`."
   ]
  },
  {
   "cell_type": "code",
   "execution_count": 24,
   "id": "6aa840fc-1b11-4393-a65a-8b37b9543a4e",
   "metadata": {
    "tags": []
   },
   "outputs": [],
   "source": [
    "from langchain.document_loaders import TextLoader\n",
    "from langchain.text_splitter import CharacterTextSplitter \n",
    "import tiktoken\n",
    "from langchain_openai import OpenAIEmbeddings\n",
    "from langchain.embeddings.sentence_transformer import (\n",
    "    SentenceTransformerEmbeddings\n",
    "    )\n",
    "from langchain.vectorstores.chroma import Chroma\n",
    "from langchain.text_splitter import CharacterTextSplitter \n",
    "from langchain_openai import OpenAIEmbeddings\n",
    "from dotenv import load_dotenv "
   ]
  },
  {
   "cell_type": "code",
   "execution_count": 30,
   "id": "f4f97b60-5ca5-4400-a3b1-34dec0eeb3bd",
   "metadata": {
    "tags": []
   },
   "outputs": [
    {
     "name": "stdout",
     "output_type": "stream",
     "text": [
      "The databse is of type <class 'langchain_community.vectorstores.chroma.Chroma'> \n",
      "and has 6 entries.\n"
     ]
    }
   ],
   "source": [
    "embeddings = OpenAIEmbeddings()\n",
    "\n",
    "text_splitter = CharacterTextSplitter(\n",
    "    is_separator_regex=False, \n",
    "    chunk_size = 87, \n",
    "    separator = \"\\n\", \n",
    "    chunk_overlap = 0  \n",
    ")\n",
    "\n",
    "loader = TextLoader(\"data_dictionary_variation.txt\")\n",
    "docs = loader.load_and_split(\n",
    "    text_splitter=text_splitter,\n",
    ")\n",
    "db = Chroma.from_documents(\n",
    "    documents = docs,\n",
    "    embedding=embeddings,\n",
    "    # Name the directory for the vector store.\n",
    "    persist_directory=\"vs_variation\"\n",
    ")\n",
    "print(f\"The databse is of type {type(db)} \\n\" \n",
    "      f\"and has {db._collection.count()} entries.\")"
   ]
  },
  {
   "cell_type": "code",
   "execution_count": 33,
   "id": "fe2a805c-8f50-41cb-9f4d-6a3be46d35a9",
   "metadata": {
    "tags": []
   },
   "outputs": [],
   "source": [
    "# Open the db if you do not want to create it. \n",
    "embeddings = OpenAIEmbeddings()\n",
    "\n",
    "db =  Chroma(\n",
    "    persist_directory=\"vs_variation\", \n",
    "    embedding_function=embeddings)"
   ]
  },
  {
   "cell_type": "markdown",
   "id": "e1b1f590-b86d-4298-9da2-481c08977008",
   "metadata": {},
   "source": [
    "## Similarity Search Tool"
   ]
  },
  {
   "cell_type": "code",
   "execution_count": 38,
   "id": "a48c0a9e-abd7-4239-aeea-6ed29659e5a8",
   "metadata": {
    "tags": []
   },
   "outputs": [
    {
     "name": "stdout",
     "output_type": "stream",
     "text": [
      "Column tio represents the height of the person in centimeters.\n",
      "Table mml contains data about peoples' height.\n"
     ]
    }
   ],
   "source": [
    "# test the vector store\n",
    "results = db.similarity_search(\n",
    "    query = \"what symbol is used to represent a person's height inside a table?\",\n",
    "    k = 2 #Number of results to display. Default 4\n",
    "    )\n",
    "\n",
    "print(\"\\n\".join([result.page_content for result in results]))"
   ]
  },
  {
   "cell_type": "code",
   "execution_count": 37,
   "id": "cce7a439-3f65-46eb-a25f-20f23cc4fe6d",
   "metadata": {
    "tags": []
   },
   "outputs": [
    {
     "data": {
      "text/plain": [
       "\"Column tio represents the height of the person in centimeters.\\nTable mml contains data about peoples' height.\""
      ]
     },
     "execution_count": 37,
     "metadata": {},
     "output_type": "execute_result"
    }
   ],
   "source": [
    "\"\\n\".join([result.page_content for result in results])"
   ]
  },
  {
   "cell_type": "code",
   "execution_count": 39,
   "id": "cc1bf868-bad4-48af-8e3a-06a88cd250e0",
   "metadata": {
    "tags": []
   },
   "outputs": [
    {
     "data": {
      "text/plain": [
       "\"Table fsr contains data about peoples' weight.\\nTable mml contains data about peoples' height.\""
      ]
     },
     "execution_count": 39,
     "metadata": {},
     "output_type": "execute_result"
    }
   ],
   "source": [
    "def data_dictionary_similarity_search(query):\n",
    "    results = db.similarity_search(\n",
    "        query = query,\n",
    "        k = 2 #Number of results to display. Default 4\n",
    "    )\n",
    "    return \"\\n\".join([result.page_content for result in results])\n",
    "    \n",
    "query = \"Which feature of which table is about peoples' weight?\"\n",
    "data_dictionary_similarity_search(query)"
   ]
  },
  {
   "cell_type": "code",
   "execution_count": 61,
   "id": "d98c779c-91d7-440d-9f3b-511b8004d69a",
   "metadata": {
    "tags": []
   },
   "outputs": [
    {
     "data": {
      "text/plain": [
       "\"Table fsr contains data about peoples' weight.\\nTable mml contains data about peoples' height.\""
      ]
     },
     "execution_count": 61,
     "metadata": {},
     "output_type": "execute_result"
    }
   ],
   "source": [
    "dd_ss_tool = Tool.from_function(\n",
    "    name=\"data_dictionary_similarity_search\", \n",
    "    description=\"\"\"\n",
    "    Gives information from the data dictionary that should be used to form an sql query.\n",
    "    \"\"\",\n",
    "    func=data_dictionary_similarity_search,\n",
    "    return_direct=True\n",
    ")\n",
    "# Check that it works:\n",
    "dd_ss_tool(\"\"\"\n",
    "which table has a feature about weight?\"\"\")"
   ]
  },
  {
   "cell_type": "markdown",
   "id": "2be2c04d-d51e-446e-bffe-39958eb4a5a3",
   "metadata": {
    "tags": []
   },
   "source": [
    "## Table informed, query, schema, and DD equipted"
   ]
  },
  {
   "cell_type": "code",
   "execution_count": 62,
   "id": "96ccb2f0-d18e-4885-959d-0568abf3779e",
   "metadata": {
    "tags": []
   },
   "outputs": [
    {
     "name": "stdout",
     "output_type": "stream",
     "text": [
      "\n",
      "\n",
      "\u001b[1m> Entering new AgentExecutor chain...\u001b[0m\n",
      "\u001b[32;1m\u001b[1;3m\n",
      "Invoking: `run_sqlite_query` with `SELECT AVG(height) FROM people`\n",
      "\n",
      "\n",
      "\u001b[0m\u001b[36;1m\u001b[1;3mThe following error occuerd: no such table: people\u001b[0m\u001b[32;1m\u001b[1;3m\n",
      "Invoking: `data_dictionary_similarity_search` with `people`\n",
      "\n",
      "\n",
      "\u001b[0m\u001b[38;5;200m\u001b[1;3mColumn hpx represents the name of the person\n",
      "Column afe represents the name of the person\u001b[0m\n",
      "\u001b[32;1m\u001b[1;3m\u001b[0m\n",
      "\n",
      "\u001b[1m> Finished chain.\u001b[0m\n"
     ]
    },
    {
     "data": {
      "text/plain": [
       "{'input': '\\nWhat is the average height of the people in the database?\\n',\n",
       " 'output': 'Column hpx represents the name of the person\\nColumn afe represents the name of the person'}"
      ]
     },
     "execution_count": 62,
     "metadata": {},
     "output_type": "execute_result"
    }
   ],
   "source": [
    "load_dotenv() # for David Cherney's OpenAI account.\n",
    "chat=ChatOpenAI()\n",
    "tools=[run_query_tool, describe_tables_tool, dd_ss_tool]\n",
    "\n",
    "prompt = ChatPromptTemplate(messages=[\n",
    "    SystemMessage(content=(\n",
    "        \"You are an AI that has access to an sqlite database.\"\n",
    "        \"You will not understand the names of the tables and columns.\"\n",
    "        \"You can ask the data_dictionary_similarity_search tool questions about the data dictionary for the database.\"\n",
    "    )),\n",
    "    HumanMessagePromptTemplate.from_template(\n",
    "        \"\"\"\n",
    "        {input} \n",
    "        \"\"\"),\n",
    "    MessagesPlaceholder(variable_name = \"agent_scratchpad\")\n",
    "    ]\n",
    ")\n",
    "\n",
    "agent = OpenAIFunctionsAgent(\n",
    "    llm=chat,\n",
    "    prompt=prompt,\n",
    "    tools=tools\n",
    "    # memory = \n",
    ")\n",
    "\n",
    "agent_executor = AgentExecutor(\n",
    "    agent=agent,\n",
    "    verbose=True,\n",
    "    tools=tools # Must be the same as in agent.\n",
    ")\n",
    "\n",
    "nl_query = \"\"\"\n",
    "What is the average height of the people in the database?\n",
    "\"\"\"\n",
    "agent_executor(nl_query)"
   ]
  },
  {
   "cell_type": "code",
   "execution_count": 46,
   "id": "4d4e1d49-9fb7-434e-b9b9-6b406bb4464f",
   "metadata": {
    "tags": []
   },
   "outputs": [
    {
     "name": "stdout",
     "output_type": "stream",
     "text": [
      "\n",
      "\n",
      "\u001b[1m> Entering new AgentExecutor chain...\u001b[0m\n",
      "\u001b[32;1m\u001b[1;3m\n",
      "Invoking: `run_sqlite_query` with `{'query': 'SELECT AVG(height/weight) as average_ratio FROM mml'}`\n",
      "\n",
      "\n",
      "\u001b[0m\u001b[36;1m\u001b[1;3mThe following error occuerd: no such column: height\u001b[0m\u001b[32;1m\u001b[1;3m\n",
      "Invoking: `run_sqlite_query` with `{'query': 'SELECT AVG(height_weight_ratio) as average_ratio FROM mml'}`\n",
      "\n",
      "\n",
      "\u001b[0m\u001b[36;1m\u001b[1;3mThe following error occuerd: no such column: height_weight_ratio\u001b[0m\u001b[32;1m\u001b[1;3m\n",
      "Invoking: `run_sqlite_query` with `{'query': 'SELECT AVG(height) / AVG(weight) as average_ratio FROM mml'}`\n",
      "\n",
      "\n",
      "\u001b[0m\u001b[36;1m\u001b[1;3mThe following error occuerd: no such column: weight\u001b[0m\u001b[32;1m\u001b[1;3m\n",
      "Invoking: `run_sqlite_query` with `{'query': 'SELECT AVG(height) as average_height, AVG(weight) as average_weight FROM mml'}`\n",
      "\n",
      "\n",
      "\u001b[0m\u001b[36;1m\u001b[1;3mThe following error occuerd: no such column: height\u001b[0m\u001b[32;1m\u001b[1;3mI'm sorry, but it seems like the database does not have the necessary columns for calculating the average ratio of height to weight. Can you please provide more information about the structure of the database and the columns available?\u001b[0m\n",
      "\n",
      "\u001b[1m> Finished chain.\u001b[0m\n"
     ]
    },
    {
     "data": {
      "text/plain": [
       "{'input': '\\nWhat is the average ratio of height to weight of the people in the database?\\n',\n",
       " 'output': \"I'm sorry, but it seems like the database does not have the necessary columns for calculating the average ratio of height to weight. Can you please provide more information about the structure of the database and the columns available?\"}"
      ]
     },
     "execution_count": 46,
     "metadata": {},
     "output_type": "execute_result"
    }
   ],
   "source": [
    "nl_query = \"\"\"\n",
    "What is the average ratio of height to weight of the people in the database?\n",
    "\"\"\"\n",
    "agent_executor(nl_query)"
   ]
  },
  {
   "cell_type": "code",
   "execution_count": null,
   "id": "2fc262cd-e063-495d-b1b7-1a9d0e9fae76",
   "metadata": {},
   "outputs": [],
   "source": []
  },
  {
   "cell_type": "code",
   "execution_count": null,
   "id": "b6e96118-3a2e-490d-8fa4-13f00083e809",
   "metadata": {},
   "outputs": [],
   "source": []
  },
  {
   "cell_type": "code",
   "execution_count": null,
   "id": "34f79606-6af6-4c5c-9cc7-901704ae9f06",
   "metadata": {},
   "outputs": [],
   "source": []
  },
  {
   "cell_type": "code",
   "execution_count": null,
   "id": "f83d1c99-1530-41d6-b900-a2910fd43fc2",
   "metadata": {},
   "outputs": [],
   "source": []
  },
  {
   "cell_type": "code",
   "execution_count": null,
   "id": "ad1a9224-be13-45e3-b4c1-b51475b6eb90",
   "metadata": {},
   "outputs": [],
   "source": []
  }
 ],
 "metadata": {
  "kernelspec": {
   "display_name": "Python [conda env:langchain_course_env]",
   "language": "python",
   "name": "conda-env-langchain_course_env-py"
  },
  "language_info": {
   "codemirror_mode": {
    "name": "ipython",
    "version": 3
   },
   "file_extension": ".py",
   "mimetype": "text/x-python",
   "name": "python",
   "nbconvert_exporter": "python",
   "pygments_lexer": "ipython3",
   "version": "3.11.5"
  }
 },
 "nbformat": 4,
 "nbformat_minor": 5
}

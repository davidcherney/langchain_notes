{
 "cells": [
  {
   "cell_type": "markdown",
   "metadata": {},
   "source": [
    "# Chains in LangChain\n",
    "\n",
    "In LnagChain, a chain is a sending of a message to an LLM. It is specified by (at minimum) two things\n",
    "1. an LLM\n",
    "    - LangChain has APIs for LLMs. \n",
    "2. a string to send to the LLM.\n",
    "    - In Langchain the strings are called <u>prompts</u>, and \n",
    "    - to <u>templatize</u> a prompt is to set it up to accept  variables.\n",
    "    - LangChain has classes for types of prompts. "
   ]
  },
  {
   "cell_type": "code",
   "execution_count": 5,
   "metadata": {
    "tags": []
   },
   "outputs": [
    {
     "name": "stdout",
     "output_type": "stream",
     "text": [
      "language\n",
      "  python\n",
      "task\n",
      "  return a list of positive integers less than 10\n",
      "text\n",
      "  \n",
      "def less_than_ten():\n",
      "    \"\"\"Returns a list of positive integers less than 10\"\"\"\n",
      "    return [1, 2, 3, 4, 5, 6, 7, 8, 9]\n"
     ]
    }
   ],
   "source": [
    "from langchain.llms import OpenAI\n",
    "from langchain.prompts import PromptTemplate\n",
    "from langchain.chains import LLMChain\n",
    "from dotenv import load_dotenv\n",
    "\n",
    "\"\"\"The OpenAI API calls use an environment variable specified in the \n",
    "file .env and exposed through the following line. \"\"\"\n",
    "load_dotenv() \n",
    "our_llm = OpenAI(model = 'gpt-3.5-turbo-instruct') # I have to pay for use of this OpenAI access to ChatGPT. \n",
    "\n",
    "code_prompt = PromptTemplate(\n",
    "    template = \"\"\"\n",
    "    Write a {language} function with a doc string that will {task}\n",
    "    \"\"\",\n",
    "    input_variables=[\"language\",\"task\"]\n",
    ")\n",
    "\n",
    "# Name out chain `code_chain` since it will return code.\n",
    "code_chain = LLMChain(\n",
    "    llm=our_llm,\n",
    "    prompt=code_prompt,\n",
    ")\n",
    "\n",
    "# Call `code_chain` specifying the values for the input variables\n",
    "# with a dictionary. \n",
    "result = code_chain(\n",
    "    {\n",
    "        \"language\":\"python\",\n",
    "        \"task\":\"return a list of positive integers less than 10\"\n",
    "    }\n",
    ")\n",
    "\n",
    "for k,v in result.items():\n",
    "    print(k)\n",
    "    print(f\"  {v}\\n\")"
   ]
  },
  {
   "cell_type": "markdown",
   "metadata": {},
   "source": [
    "Running a chain returns a dictionary with \n",
    "- a key for each input variable\n",
    "    - `'language'`, `'task'`\n",
    "- a key for each output variable \n",
    "    - `'text'`"
   ]
  },
  {
   "cell_type": "code",
   "execution_count": 5,
   "metadata": {
    "tags": []
   },
   "outputs": [
    {
     "name": "stdout",
     "output_type": "stream",
     "text": [
      "Key:language\n",
      "  value: python\n",
      "\n",
      "Key:task\n",
      "  value: return a list of positive integers less than 10\n",
      "\n",
      "Key:text\n",
      "  value: \n",
      "def get_positive_integers_less_than_10():\n",
      "    '''\n",
      "    Returns a list of positive integers less than 10\n",
      "    '''\n",
      "    return [1, 2, 3, 4, 5, 6, 7, 8, 9]\n",
      "\n"
     ]
    }
   ],
   "source": [
    "for k,v in result.items():\n",
    "    print(f\"Key:{k}\")\n",
    "    print(f\"  value: {v}\\n\")"
   ]
  },
  {
   "cell_type": "markdown",
   "metadata": {},
   "source": [
    "### `output_key`\n",
    "The default output key  `\"text\"` can be modified."
   ]
  },
  {
   "cell_type": "code",
   "execution_count": 6,
   "metadata": {
    "tags": []
   },
   "outputs": [
    {
     "name": "stdout",
     "output_type": "stream",
     "text": [
      "Instead of 'text' the key for the LLM's output is 'code'\n"
     ]
    }
   ],
   "source": [
    "code_chain = LLMChain(\n",
    "    llm=our_llm,\n",
    "    prompt=code_prompt,\n",
    "    # Change the name of the output key.\n",
    "    output_key=\"code\",\n",
    ")\n",
    "\n",
    "result = code_chain(\n",
    "    {\n",
    "        \"language\":\"python\",\n",
    "        \"task\":\"return a list of positive integers less than 10\"\n",
    "    }\n",
    ")\n",
    "\n",
    "\n",
    "print(f\"Instead of 'text' the key for the LLM's output is \\'{list(result.keys())[-1]}\\'\")"
   ]
  },
  {
   "cell_type": "markdown",
   "metadata": {},
   "source": [
    "## Sequential chains\n",
    "\n",
    "Two or more chains can be concatenated (my words). "
   ]
  },
  {
   "cell_type": "code",
   "execution_count": 8,
   "metadata": {
    "tags": []
   },
   "outputs": [
    {
     "name": "stdout",
     "output_type": "stream",
     "text": [
      ">>>> language <<<<\n",
      "python\n",
      ">>>> task <<<<\n",
      "'Create a list of integers less than 10.'\n",
      ">>>> code <<<<\n",
      "\n",
      "\n",
      "def create_list():\n",
      "    list = [0,1,2,3,4,5,6,7,8,9]\n",
      "    return list\n",
      ">>>> test <<<<\n",
      "\n",
      "\n",
      "1. Import the necessary testing library and the create_list function from the python code.\n",
      "2. Define a function called \"test_create_list\" to perform the testing.\n",
      "3. Within the function, use the \"assert\" statement to check if the returned list from the create_list function is equal to the expected list [0,1,2,3,4,5,6,7,8,9].\n",
      "4. Call the test_create_list function to run the test.\n",
      "5. If the assert statement returns True, the test is passed and a success message is printed. If the assert statement returns False, the test is failed and an error message is printed.\n",
      "6. Include multiple assert statements to check for different expected lists, such as an empty list or a list with negative numbers.\n",
      "7. Include a try-except block to catch any potential errors that may occur during the test.\n",
      "8. Print a final message indicating the number of tests passed and failed. \n",
      "\n",
      "Sample code:\n",
      "\n",
      "# Import testing library and create_list function\n",
      "import unittest\n",
      "from python_code import create_list\n",
      "\n",
      "# Define test function\n",
      "def test_create_list():\n",
      "    # Expected list\n",
      "    expected_list = [0,1,2,3,4,5,6,7,8,\n"
     ]
    }
   ],
   "source": [
    "from langchain.chains import SequentialChain # for concatenating chains\n",
    "\n",
    "code_prompt = PromptTemplate(\n",
    "    template=\"Write a very short {language} function that will {task}.\",\n",
    "    input_variables=[\"language\",\"task\"]\n",
    ")\n",
    "\n",
    "code_chain = LLMChain(\n",
    "    llm = our_llm,\n",
    "    prompt=code_prompt,\n",
    "    # The ouput will be sent to the next chain, so this key matters. \n",
    "    output_key=\"code\"\n",
    "    )\n",
    "\n",
    "test_prompt = PromptTemplate(\n",
    "    input_variables=[\"language\",\"code\"], \n",
    "    # pass the output of the previous chain to this chain.\n",
    "    template=\"Write a test for the following {language} code:\\n{code}.\"\n",
    ")\n",
    "\n",
    "test_chain = LLMChain(\n",
    "    llm=our_llm,\n",
    "    prompt=test_prompt,\n",
    "    output_key=\"test\" # So named because the output is a python test.\n",
    ")\n",
    "\n",
    "chain = SequentialChain(\n",
    "    # List the chains to put in squence in order.\n",
    "    chains=[code_chain, test_chain],\n",
    "    # List the variables that go into the first chain.\n",
    "    input_variables=[\"task\",\"language\"],\n",
    "    # List the variables that you want to be included in the resulting dictionary; \n",
    "    # options include \n",
    "    # (i) any input key to any chain in chains \n",
    "    # (ii) any ouput_key of any chain in chains.\n",
    "    output_variables=[\n",
    "        \"task\",\n",
    "        \"language\",\n",
    "        \"code\",\n",
    "        'test',\n",
    "        ],\n",
    ")\n",
    "\n",
    "result = chain({\n",
    "    \"language\": \"python\",\n",
    "    \"task\": \"'Create a list of integers less than 10.'\",\n",
    "    })\n",
    "\n",
    "# print(args)\n",
    "for k,v in result.items():\n",
    "    print(f'>>>> {k} <<<<')\n",
    "    print(v)"
   ]
  },
  {
   "cell_type": "code",
   "execution_count": null,
   "metadata": {},
   "outputs": [],
   "source": []
  }
 ],
 "metadata": {
  "kernelspec": {
   "display_name": "Python [conda env:langchain_course_env]",
   "language": "python",
   "name": "conda-env-langchain_course_env-py"
  },
  "language_info": {
   "codemirror_mode": {
    "name": "ipython",
    "version": 3
   },
   "file_extension": ".py",
   "mimetype": "text/x-python",
   "name": "python",
   "nbconvert_exporter": "python",
   "pygments_lexer": "ipython3",
   "version": "3.11.5"
  }
 },
 "nbformat": 4,
 "nbformat_minor": 4
}
